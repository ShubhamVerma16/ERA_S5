{
  "cells": [
    {
      "cell_type": "code",
      "execution_count": null,
      "metadata": {
        "id": "ldeDJKP4bHGj"
      },
      "outputs": [],
      "source": [
        "from google.colab import drive\n",
        "drive.mount('/content/drive/', force_remount=True)"
      ]
    },
    {
      "cell_type": "code",
      "execution_count": null,
      "metadata": {
        "id": "ik7AHqIrguen"
      },
      "outputs": [],
      "source": [
        "%cd /content/drive/MyDrive/ERA/ERA_S5"
      ]
    },
    {
      "cell_type": "code",
      "execution_count": null,
      "metadata": {
        "id": "OgucfdVEi6QI"
      },
      "outputs": [],
      "source": [
        "!pip install matplotlib torchsummary"
      ]
    },
    {
      "cell_type": "code",
      "execution_count": null,
      "metadata": {
        "id": "TOanM9oVhL5i"
      },
      "outputs": [],
      "source": [
        "import model\n",
        "from model import Net\n",
        "import utils\n",
        "from utils import Utils"
      ]
    },
    {
      "cell_type": "code",
      "execution_count": null,
      "metadata": {
        "id": "tBw4W43NYiRw"
      },
      "outputs": [],
      "source": [
        "utility = Utils()"
      ]
    },
    {
      "cell_type": "code",
      "execution_count": null,
      "metadata": {
        "id": "th4UHvpxYpKp"
      },
      "outputs": [],
      "source": [
        "# Train data transformations\n",
        "train_transforms, test_transforms = utility.get_transform()"
      ]
    },
    {
      "cell_type": "code",
      "execution_count": null,
      "metadata": {
        "colab": {
          "background_save": true
        },
        "id": "nnlC0jU_YpMl"
      },
      "outputs": [],
      "source": [
        "train_data, test_data = utility.get_data(train_transforms, test_transforms)"
      ]
    },
    {
      "cell_type": "code",
      "execution_count": null,
      "metadata": {
        "id": "oZ4mi4eWj5Y_"
      },
      "outputs": [],
      "source": [
        "train_loader, test_loader = utility.get_data_loader(train_data, test_data)"
      ]
    },
    {
      "cell_type": "code",
      "execution_count": null,
      "metadata": {
        "id": "v4l7iZtmYpRu"
      },
      "outputs": [],
      "source": [
        "utility.plot_input_data(train_loader, 20)"
      ]
    },
    {
      "cell_type": "code",
      "execution_count": null,
      "metadata": {
        "id": "9WzjoH31YpTq"
      },
      "outputs": [],
      "source": [
        "model = Net().to(utility.device) # Load model to device"
      ]
    },
    {
      "cell_type": "code",
      "execution_count": null,
      "metadata": {
        "id": "Zmahc4YsYpWN"
      },
      "outputs": [],
      "source": [
        "model_summary = utility.get_model_summary(model)"
      ]
    },
    {
      "cell_type": "markdown",
      "metadata": {
        "id": "sPl3Kauol6AW"
      },
      "source": []
    },
    {
      "cell_type": "code",
      "execution_count": null,
      "metadata": {
        "id": "x-ei2KXYYpc8"
      },
      "outputs": [],
      "source": [
        "optimizer = utility.get_optimizer(model)\n",
        "scheduler = utility.get_scheduler(optimizer)\n",
        "\n",
        "criterion = utility.criterion # negetive loss likelihood loss\n",
        "num_epochs = utility.num_epochs\n",
        "\n",
        "for epoch in range(1, num_epochs+1):\n",
        "  print(f'Epoch {epoch}')\n",
        "  utility.train(model, utility.device, train_loader, optimizer, criterion) # Train th models\n",
        "  utility.test(model, utility.device, test_loader, criterion) # Tets the model\n",
        "  scheduler.step() # update hte learning rate"
      ]
    },
    {
      "cell_type": "code",
      "execution_count": null,
      "metadata": {
        "id": "FwtQsBMjY-ou"
      },
      "outputs": [],
      "source": [
        "utility.plot_learning_curve()"
      ]
    },
    {
      "cell_type": "code",
      "execution_count": null,
      "metadata": {
        "id": "gEbTvtEZKZIN"
      },
      "outputs": [],
      "source": []
    }
  ],
  "metadata": {
    "accelerator": "GPU",
    "colab": {
      "gpuType": "T4",
      "provenance": [],
      "mount_file_id": "1eCmmssa6ZYXo1t6xsOiJmpmTKCfIbTlv",
      "authorship_tag": "ABX9TyOMQOSE2haszUTuqv5FLqF8"
    },
    "kernelspec": {
      "display_name": "Python 3",
      "name": "python3"
    },
    "language_info": {
      "name": "python"
    }
  },
  "nbformat": 4,
  "nbformat_minor": 0
}